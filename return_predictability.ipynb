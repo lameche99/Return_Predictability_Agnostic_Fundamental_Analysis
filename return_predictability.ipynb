{
 "cells": [
  {
   "cell_type": "markdown",
   "metadata": {},
   "source": [
    "# **Return Predictability with Agnostic Fundamental Analysis**\n",
    "### *Roy Gabriel, Michele Orlandi, Ryan Pate, Michael Smith*\n",
    "### *MGT6078 Fall 2022*"
   ]
  },
  {
   "cell_type": "markdown",
   "metadata": {},
   "source": [
    "# 1. **Setup**"
   ]
  },
  {
   "cell_type": "code",
   "execution_count": 6,
   "metadata": {},
   "outputs": [],
   "source": [
    "import os\n",
    "import sys\n",
    "sys.path.append(os.getcwd())\n",
    "import pandas as pd\n",
    "import numpy as np\n",
    "import plotly.graph_objects as go\n",
    "from sklearn.linear_model import LinearRegression, Lasso, LassoCV\n",
    "from sklearn.ensemble import RandomForestRegressor\n",
    "import gc\n",
    "import warnings"
   ]
  },
  {
   "cell_type": "code",
   "execution_count": 7,
   "metadata": {},
   "outputs": [],
   "source": [
    "url = 'https://www.dropbox.com/s/iasfmrfdzafjkyq/student_data.csv?dl=1'"
   ]
  },
  {
   "cell_type": "code",
   "execution_count": 8,
   "metadata": {},
   "outputs": [],
   "source": [
    "gc.enable()\n",
    "warnings.filterwarnings('ignore')"
   ]
  },
  {
   "cell_type": "code",
   "execution_count": 9,
   "metadata": {},
   "outputs": [],
   "source": [
    "# msf = pd.read_csv(url).drop(labels=['PERMNO', 'gvkey', 'COMNAM', 'TICKER', 'SICCD'], axis=1)\n",
    "# msf = msf.loc[:, msf.columns[1:]].copy()\n",
    "# gc.collect()\n",
    "# msf['date'] = pd.to_datetime(msf['date'], format='%Y%m%d')\n",
    "# msf['nextmonth'] = pd.to_datetime(msf['nextmonth'], format='%Y%m%d')"
   ]
  },
  {
   "cell_type": "code",
   "execution_count": 10,
   "metadata": {},
   "outputs": [],
   "source": [
    "# msf.head()"
   ]
  }
 ],
 "metadata": {
  "kernelspec": {
   "display_name": "Python 3.9.7 ('crypto-bot')",
   "language": "python",
   "name": "python3"
  },
  "language_info": {
   "codemirror_mode": {
    "name": "ipython",
    "version": 3
   },
   "file_extension": ".py",
   "mimetype": "text/x-python",
   "name": "python",
   "nbconvert_exporter": "python",
   "pygments_lexer": "ipython3",
   "version": "3.9.7"
  },
  "orig_nbformat": 4,
  "vscode": {
   "interpreter": {
    "hash": "c176bbd73966ae95c30e0aa2d52d94e509dcae400ab01cc0a2ff819406a30ef9"
   }
  }
 },
 "nbformat": 4,
 "nbformat_minor": 2
}
