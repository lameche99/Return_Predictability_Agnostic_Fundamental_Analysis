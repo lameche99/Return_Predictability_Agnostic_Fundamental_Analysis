{
 "cells": [
  {
   "attachments": {},
   "cell_type": "markdown",
   "metadata": {},
   "source": [
    "# **Return Predictability with Agnostic Fundamental Analysis**\n",
    "### *Michele Orlandi*\n",
    "### *MGT6078 Fall 2022*"
   ]
  },
  {
   "cell_type": "markdown",
   "metadata": {},
   "source": [
    "# 1. **Setup**"
   ]
  },
  {
   "cell_type": "code",
   "execution_count": 14,
   "metadata": {},
   "outputs": [],
   "source": [
    "import os\n",
    "import sys\n",
    "sys.path.append(os.getcwd())\n",
    "import pandas as pd\n",
    "import numpy as np\n",
    "import plotly.graph_objects as go\n",
    "from sklearn.linear_model import LinearRegression, Lasso, LassoCV\n",
    "from sklearn.ensemble import RandomForestRegressor\n",
    "from sklearn.preprocessing import StandardScaler\n",
    "import gc\n",
    "import warnings"
   ]
  },
  {
   "cell_type": "code",
   "execution_count": 2,
   "metadata": {},
   "outputs": [],
   "source": [
    "url = 'https://www.dropbox.com/s/iasfmrfdzafjkyq/student_data.csv?dl=1'"
   ]
  },
  {
   "cell_type": "code",
   "execution_count": 3,
   "metadata": {},
   "outputs": [],
   "source": [
    "gc.enable()\n",
    "warnings.filterwarnings('ignore')"
   ]
  },
  {
   "cell_type": "code",
   "execution_count": 6,
   "metadata": {},
   "outputs": [],
   "source": [
    "# read data from Dropbox and remove extra identifiers\n",
    "msf = pd.read_csv(url).drop(labels=['PERMNO', 'gvkey', 'COMNAM', 'TICKER', 'SICCD'], axis=1)\n",
    "msf = msf.loc[:, msf.columns[1:]].copy()\n",
    "gc.collect()\n",
    "# get datetime objects and Market Value of each firm\n",
    "msf['date'] = pd.to_datetime(msf['date'], format='%Y%m%d')\n",
    "msf['nextmonth'] = pd.to_datetime(msf['nextmonth'], format='%Y%m%d')\n",
    "msf['mktval'] = msf['PRC'] * msf['SHROUT']"
   ]
  },
  {
   "cell_type": "code",
   "execution_count": 13,
   "metadata": {},
   "outputs": [],
   "source": [
    "# store predictor variable names\n",
    "predictor_names = msf.columns[7:-1].tolist()\n",
    "# store prediction name\n",
    "prediction_name = msf.columns[-1]"
   ]
  },
  {
   "cell_type": "code",
   "execution_count": 44,
   "metadata": {},
   "outputs": [
    {
     "data": {
      "text/html": [
       "<div>\n",
       "<style scoped>\n",
       "    .dataframe tbody tr th:only-of-type {\n",
       "        vertical-align: middle;\n",
       "    }\n",
       "\n",
       "    .dataframe tbody tr th {\n",
       "        vertical-align: top;\n",
       "    }\n",
       "\n",
       "    .dataframe thead th {\n",
       "        text-align: right;\n",
       "    }\n",
       "</style>\n",
       "<table border=\"1\" class=\"dataframe\">\n",
       "  <thead>\n",
       "    <tr style=\"text-align: right;\">\n",
       "      <th></th>\n",
       "      <th>date</th>\n",
       "      <th>CUSIP</th>\n",
       "      <th>PRC</th>\n",
       "      <th>SHROUT</th>\n",
       "      <th>RET</th>\n",
       "      <th>nextmonth</th>\n",
       "      <th>next_Ret</th>\n",
       "      <th>atq</th>\n",
       "      <th>dvpq</th>\n",
       "      <th>seqq</th>\n",
       "      <th>...</th>\n",
       "      <th>ibq_MA4</th>\n",
       "      <th>txtq_MA4</th>\n",
       "      <th>niq_MA4</th>\n",
       "      <th>cheq_MA4</th>\n",
       "      <th>saleq_MA4</th>\n",
       "      <th>dvy_MA4</th>\n",
       "      <th>piq_MA4</th>\n",
       "      <th>mktval</th>\n",
       "      <th>linear_fvp</th>\n",
       "      <th>linear_mispricing</th>\n",
       "    </tr>\n",
       "  </thead>\n",
       "  <tbody>\n",
       "    <tr>\n",
       "      <th>0</th>\n",
       "      <td>1987-03-31</td>\n",
       "      <td>00036110</td>\n",
       "      <td>33.50</td>\n",
       "      <td>9099.0</td>\n",
       "      <td>0.107438</td>\n",
       "      <td>1987-04-30</td>\n",
       "      <td>-0.111940</td>\n",
       "      <td>228.106</td>\n",
       "      <td>0.000</td>\n",
       "      <td>130.427</td>\n",
       "      <td>...</td>\n",
       "      <td>3.56150</td>\n",
       "      <td>2.85750</td>\n",
       "      <td>3.56150</td>\n",
       "      <td>3.78525</td>\n",
       "      <td>70.67700</td>\n",
       "      <td>2.58625</td>\n",
       "      <td>6.41900</td>\n",
       "      <td>304816.5</td>\n",
       "      <td>1.749557e+08</td>\n",
       "      <td>572.970606</td>\n",
       "    </tr>\n",
       "    <tr>\n",
       "      <th>1</th>\n",
       "      <td>1987-03-31</td>\n",
       "      <td>10304310</td>\n",
       "      <td>38.25</td>\n",
       "      <td>9158.0</td>\n",
       "      <td>0.145522</td>\n",
       "      <td>1987-04-30</td>\n",
       "      <td>-0.049020</td>\n",
       "      <td>163.403</td>\n",
       "      <td>0.000</td>\n",
       "      <td>112.860</td>\n",
       "      <td>...</td>\n",
       "      <td>5.48775</td>\n",
       "      <td>5.37000</td>\n",
       "      <td>5.48775</td>\n",
       "      <td>26.73400</td>\n",
       "      <td>48.04150</td>\n",
       "      <td>2.54975</td>\n",
       "      <td>11.11825</td>\n",
       "      <td>350293.5</td>\n",
       "      <td>1.291337e+08</td>\n",
       "      <td>367.644326</td>\n",
       "    </tr>\n",
       "    <tr>\n",
       "      <th>2</th>\n",
       "      <td>1987-03-31</td>\n",
       "      <td>89051610</td>\n",
       "      <td>61.25</td>\n",
       "      <td>4418.0</td>\n",
       "      <td>-0.020349</td>\n",
       "      <td>1987-04-30</td>\n",
       "      <td>-0.089796</td>\n",
       "      <td>79.886</td>\n",
       "      <td>0.000</td>\n",
       "      <td>64.583</td>\n",
       "      <td>...</td>\n",
       "      <td>3.20050</td>\n",
       "      <td>3.22475</td>\n",
       "      <td>3.20050</td>\n",
       "      <td>25.79550</td>\n",
       "      <td>27.85075</td>\n",
       "      <td>1.06600</td>\n",
       "      <td>6.42525</td>\n",
       "      <td>270602.5</td>\n",
       "      <td>7.698497e+07</td>\n",
       "      <td>283.494683</td>\n",
       "    </tr>\n",
       "    <tr>\n",
       "      <th>3</th>\n",
       "      <td>1987-03-31</td>\n",
       "      <td>89109210</td>\n",
       "      <td>31.00</td>\n",
       "      <td>6633.0</td>\n",
       "      <td>-0.038610</td>\n",
       "      <td>1987-04-30</td>\n",
       "      <td>-0.032258</td>\n",
       "      <td>261.411</td>\n",
       "      <td>0.296</td>\n",
       "      <td>74.113</td>\n",
       "      <td>...</td>\n",
       "      <td>4.20075</td>\n",
       "      <td>2.67900</td>\n",
       "      <td>4.20075</td>\n",
       "      <td>7.61300</td>\n",
       "      <td>112.99875</td>\n",
       "      <td>2.64300</td>\n",
       "      <td>6.87975</td>\n",
       "      <td>205623.0</td>\n",
       "      <td>-1.199212e+08</td>\n",
       "      <td>-584.209282</td>\n",
       "    </tr>\n",
       "    <tr>\n",
       "      <th>4</th>\n",
       "      <td>1987-03-31</td>\n",
       "      <td>89190610</td>\n",
       "      <td>26.00</td>\n",
       "      <td>15916.0</td>\n",
       "      <td>-0.223881</td>\n",
       "      <td>1987-04-30</td>\n",
       "      <td>-0.028846</td>\n",
       "      <td>27.390</td>\n",
       "      <td>0.000</td>\n",
       "      <td>24.649</td>\n",
       "      <td>...</td>\n",
       "      <td>1.30950</td>\n",
       "      <td>1.29375</td>\n",
       "      <td>1.30950</td>\n",
       "      <td>4.86050</td>\n",
       "      <td>9.08825</td>\n",
       "      <td>0.00000</td>\n",
       "      <td>2.60325</td>\n",
       "      <td>413816.0</td>\n",
       "      <td>1.773717e+07</td>\n",
       "      <td>41.862468</td>\n",
       "    </tr>\n",
       "  </tbody>\n",
       "</table>\n",
       "<p>5 rows × 37 columns</p>\n",
       "</div>"
      ],
      "text/plain": [
       "        date     CUSIP    PRC   SHROUT        RET  nextmonth  next_Ret  \\\n",
       "0 1987-03-31  00036110  33.50   9099.0   0.107438 1987-04-30 -0.111940   \n",
       "1 1987-03-31  10304310  38.25   9158.0   0.145522 1987-04-30 -0.049020   \n",
       "2 1987-03-31  89051610  61.25   4418.0  -0.020349 1987-04-30 -0.089796   \n",
       "3 1987-03-31  89109210  31.00   6633.0  -0.038610 1987-04-30 -0.032258   \n",
       "4 1987-03-31  89190610  26.00  15916.0  -0.223881 1987-04-30 -0.028846   \n",
       "\n",
       "       atq   dvpq     seqq  ...  ibq_MA4  txtq_MA4  niq_MA4  cheq_MA4  \\\n",
       "0  228.106  0.000  130.427  ...  3.56150   2.85750  3.56150   3.78525   \n",
       "1  163.403  0.000  112.860  ...  5.48775   5.37000  5.48775  26.73400   \n",
       "2   79.886  0.000   64.583  ...  3.20050   3.22475  3.20050  25.79550   \n",
       "3  261.411  0.296   74.113  ...  4.20075   2.67900  4.20075   7.61300   \n",
       "4   27.390  0.000   24.649  ...  1.30950   1.29375  1.30950   4.86050   \n",
       "\n",
       "   saleq_MA4  dvy_MA4   piq_MA4    mktval    linear_fvp  linear_mispricing  \n",
       "0   70.67700  2.58625   6.41900  304816.5  1.749557e+08         572.970606  \n",
       "1   48.04150  2.54975  11.11825  350293.5  1.291337e+08         367.644326  \n",
       "2   27.85075  1.06600   6.42525  270602.5  7.698497e+07         283.494683  \n",
       "3  112.99875  2.64300   6.87975  205623.0 -1.199212e+08        -584.209282  \n",
       "4    9.08825  0.00000   2.60325  413816.0  1.773717e+07          41.862468  \n",
       "\n",
       "[5 rows x 37 columns]"
      ]
     },
     "execution_count": 44,
     "metadata": {},
     "output_type": "execute_result"
    }
   ],
   "source": [
    "msf.head()"
   ]
  },
  {
   "attachments": {},
   "cell_type": "markdown",
   "metadata": {},
   "source": [
    "# 2. **Model 1 - OLS**"
   ]
  },
  {
   "attachments": {},
   "cell_type": "markdown",
   "metadata": {},
   "source": [
    "## 2.1 **Helper Functions**"
   ]
  },
  {
   "cell_type": "code",
   "execution_count": 45,
   "metadata": {},
   "outputs": [],
   "source": [
    "def scale_data(df: pd.DataFrame):\n",
    "    scaler = StandardScaler()\n",
    "    scaled = scaler.fit_transform(df)\n",
    "    return scaled"
   ]
  },
  {
   "cell_type": "code",
   "execution_count": 46,
   "metadata": {},
   "outputs": [],
   "source": [
    "def get_regression(df: pd.DataFrame, predictors: list, prediction: str):\n",
    "    X = df.loc[:, predictors]\n",
    "    y = df.loc[:, prediction]\n",
    "    reg = LinearRegression()\n",
    "    x_scaled = scale_data(X)\n",
    "    reg.fit(x_scaled, y)\n",
    "    y_pred = reg.predict(X)\n",
    "    return y_pred"
   ]
  },
  {
   "attachments": {},
   "cell_type": "markdown",
   "metadata": {},
   "source": [
    "## 2.2 **Mispricing Signal**"
   ]
  },
  {
   "attachments": {},
   "cell_type": "markdown",
   "metadata": {},
   "source": [
    "The mispricing signal is calculated as: $$ M_{j,t} = {{FairValuePrediction_{j,t} - MarketValue_{j,t}} \\over MarketValue_{j,t}} $$\n",
    "Where:\n",
    "- $FairValuePrediction_{j,t}$ is defined as firm $j$'s Market Value on month $t$ predicted by a simple OLS\n",
    "- $MarketValue_{j,t}$ is defined as firm $j$'s Market Value on month $t$ calculated as $PRC * SHROUT$\n",
    "- $M_{j,t}$ is the mispricing signal for firm $j$ on month $t$\n"
   ]
  },
  {
   "cell_type": "code",
   "execution_count": 32,
   "metadata": {},
   "outputs": [],
   "source": [
    "# get monthly fair value for each firm through simple OLS\n",
    "linear_fair_value = pd.DataFrame(msf.groupby('date').apply(\n",
    "    lambda x: pd.Series(\n",
    "        get_regression(x, predictor_names, prediction_name),\n",
    "        name='linear_fvp'\n",
    "    ))).reset_index()"
   ]
  },
  {
   "cell_type": "code",
   "execution_count": null,
   "metadata": {},
   "outputs": [],
   "source": [
    "# add results to main data frame\n",
    "msf['linear_fvp'] = linear_fair_value['linear_fvp']\n",
    "# calculate mispricing signal\n",
    "msf['linear_sig'] = (msf['linear_fvp'] - msf['mktval']) / msf['mktval']"
   ]
  },
  {
   "attachments": {},
   "cell_type": "markdown",
   "metadata": {},
   "source": [
    "# 3. **Model 2 - OLS Post-LASSO**"
   ]
  },
  {
   "attachments": {},
   "cell_type": "markdown",
   "metadata": {},
   "source": [
    "The mispricing signal is calculated as before, except we select the relevant explanatory features through a Least Absolute Selection and Shrinkage Operator.<br>\n",
    "\n",
    "- Firstly fit monthly data to a LASSO Cross-Validation to find the optimal $l_1$ penalty $\\alpha$\n",
    "- Then fit the data to the LASSO Regressor with the optimal $\\alpha$\n",
    "- Select the most relevant coefficients: $\\beta_i > 0$\n",
    "- Run OLS with only selected explanatory variables to predict fair values"
   ]
  },
  {
   "attachments": {},
   "cell_type": "markdown",
   "metadata": {},
   "source": [
    "## 3.1 **Helper Functions**"
   ]
  },
  {
   "cell_type": "code",
   "execution_count": 77,
   "metadata": {},
   "outputs": [],
   "source": [
    "# run LASSO Regression to extract relevant features\n",
    "def feature_selection(df: pd.DataFrame, predictors: list, prediction):\n",
    "    X = df.loc[:, predictors]\n",
    "    y = df.loc[:, prediction]\n",
    "    x_scaled = scale_data(X)\n",
    "\n",
    "    lasso = Lasso(max_iter=10000, normalize=True)\n",
    "    lasso_cv = LassoCV(alphas=None, cv=10, max_iter=10000, normalize=True)\n",
    "    # fit Cross Validation to get optimal alpha\n",
    "    lasso_cv.fit(x_scaled, y)\n",
    "    lasso.alpha = lasso_cv.alpha_\n",
    "    # fit Lasso with optimal penalty\n",
    "    lasso.fit(x_scaled, y)\n",
    "    # select optimal features -> coefficient > 0\n",
    "    coefficients = lasso.coef_\n",
    "    selected_features = list(np.array(predictors)[coefficients > 0])\n",
    "\n",
    "    return selected_features"
   ]
  },
  {
   "cell_type": "code",
   "execution_count": 78,
   "metadata": {},
   "outputs": [],
   "source": [
    "# run OLS post-LASSO feature selection\n",
    "def ols_post_lasso(df: pd.DataFrame, predictors: list, prediction: str):\n",
    "    \n",
    "    # use LASSO regression to select relevant features\n",
    "    relevant_feats = feature_selection(df, predictors, prediction)\n",
    "    # get predicted values from OLS with selected features\n",
    "    y_pred = get_regression(df, relevant_feats, prediction)\n",
    "    \n",
    "    return y_pred"
   ]
  },
  {
   "attachments": {},
   "cell_type": "markdown",
   "metadata": {},
   "source": [
    "## 3.2 **Mispricing Signal**"
   ]
  },
  {
   "cell_type": "code",
   "execution_count": 79,
   "metadata": {},
   "outputs": [],
   "source": [
    "# calculate predicted fair value with post-LASSO regression\n",
    "lasso_fair_value = pd.DataFrame(msf.groupby('date').apply(\n",
    "    lambda x: pd.Series(\n",
    "        ols_post_lasso(x, predictor_names, prediction_name),\n",
    "        name='post_lasso_fvp'\n",
    "    ))).reset_index()"
   ]
  },
  {
   "cell_type": "code",
   "execution_count": 81,
   "metadata": {},
   "outputs": [],
   "source": [
    "# calculate OLS post-LASSO mispricing signal\n",
    "msf['lasso_fvp'] = lasso_fair_value['post_lasso_fvp']\n",
    "msf['lasso_sig'] = (msf['lasso_fvp'] - msf['mktval']) / msf['mktval']"
   ]
  }
 ],
 "metadata": {
  "kernelspec": {
   "display_name": "Python 3.9.7 ('crypto-bot')",
   "language": "python",
   "name": "python3"
  },
  "language_info": {
   "codemirror_mode": {
    "name": "ipython",
    "version": 3
   },
   "file_extension": ".py",
   "mimetype": "text/x-python",
   "name": "python",
   "nbconvert_exporter": "python",
   "pygments_lexer": "ipython3",
   "version": "3.9.7"
  },
  "orig_nbformat": 4,
  "vscode": {
   "interpreter": {
    "hash": "c176bbd73966ae95c30e0aa2d52d94e509dcae400ab01cc0a2ff819406a30ef9"
   }
  }
 },
 "nbformat": 4,
 "nbformat_minor": 2
}
