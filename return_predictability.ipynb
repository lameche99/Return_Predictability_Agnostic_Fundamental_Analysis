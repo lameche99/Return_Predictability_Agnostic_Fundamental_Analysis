{
 "cells": [
  {
   "attachments": {},
   "cell_type": "markdown",
   "metadata": {},
   "source": [
    "# **Return Predictability with Agnostic Fundamental Analysis**\n",
    "### *Michele Orlandi*\n",
    "### *MGT6078 Fall 2022*"
   ]
  },
  {
   "cell_type": "markdown",
   "metadata": {},
   "source": [
    "# 1. **Setup**"
   ]
  },
  {
   "cell_type": "code",
   "execution_count": null,
   "metadata": {},
   "outputs": [],
   "source": [
    "import os\n",
    "import sys\n",
    "sys.path.append(os.getcwd())\n",
    "import pandas as pd\n",
    "import numpy as np\n",
    "import plotly.graph_objects as go\n",
    "from sklearn.linear_model import LinearRegression, Lasso, LassoCV\n",
    "from sklearn.ensemble import RandomForestRegressor\n",
    "from sklearn.preprocessing import StandardScaler\n",
    "import gc\n",
    "import warnings"
   ]
  },
  {
   "cell_type": "code",
   "execution_count": null,
   "metadata": {},
   "outputs": [],
   "source": [
    "url = 'https://www.dropbox.com/s/iasfmrfdzafjkyq/student_data.csv?dl=1'"
   ]
  },
  {
   "cell_type": "code",
   "execution_count": null,
   "metadata": {},
   "outputs": [],
   "source": [
    "gc.enable()\n",
    "warnings.filterwarnings('ignore')"
   ]
  },
  {
   "cell_type": "code",
   "execution_count": null,
   "metadata": {},
   "outputs": [],
   "source": [
    "# read data from Dropbox and remove extra identifiers\n",
    "msf = pd.read_csv(url).drop(labels=['PERMNO', 'gvkey', 'COMNAM', 'TICKER', 'SICCD'], axis=1)\n",
    "msf = msf.loc[:, msf.columns[1:]].copy()\n",
    "gc.collect()\n",
    "# get datetime objects and Market Value of each firm\n",
    "msf['date'] = pd.to_datetime(msf['date'], format='%Y%m%d')\n",
    "msf['nextmonth'] = pd.to_datetime(msf['nextmonth'], format='%Y%m%d')\n",
    "msf['mktval'] = msf['PRC'] * msf['SHROUT']"
   ]
  },
  {
   "cell_type": "code",
   "execution_count": null,
   "metadata": {},
   "outputs": [],
   "source": [
    "# store predictor variable names\n",
    "predictor_names = msf.columns[7:-1].tolist()\n",
    "# store prediction name\n",
    "prediction_name = msf.columns[-1]"
   ]
  },
  {
   "cell_type": "code",
   "execution_count": null,
   "metadata": {},
   "outputs": [],
   "source": [
    "msf.head()"
   ]
  },
  {
   "attachments": {},
   "cell_type": "markdown",
   "metadata": {},
   "source": [
    "# 2. **Model 1 - OLS**"
   ]
  },
  {
   "attachments": {},
   "cell_type": "markdown",
   "metadata": {},
   "source": [
    "## 2.1 **Helper Functions**"
   ]
  },
  {
   "cell_type": "code",
   "execution_count": null,
   "metadata": {},
   "outputs": [],
   "source": [
    "def scale_data(df: pd.DataFrame):\n",
    "    scaler = StandardScaler()\n",
    "    scaled = scaler.fit_transform(df)\n",
    "    return scaled"
   ]
  },
  {
   "cell_type": "code",
   "execution_count": null,
   "metadata": {},
   "outputs": [],
   "source": [
    "def get_regression(df: pd.DataFrame, predictors: list, prediction: str):\n",
    "    X = df.loc[:, predictors]\n",
    "    y = df.loc[:, prediction]\n",
    "    reg = LinearRegression()\n",
    "    x_scaled = scale_data(X)\n",
    "    reg.fit(x_scaled, y)\n",
    "    y_pred = reg.predict(X)\n",
    "    return y_pred"
   ]
  },
  {
   "attachments": {},
   "cell_type": "markdown",
   "metadata": {},
   "source": [
    "## 2.2 **Mispricing Signal**\n",
    "The mispricing signal is calculated as: $$ M_{j,t} = {{FairValuePrediction_{j,t} - MarketValue_{j,t}} \\over MarketValue_{j,t}} $$\n",
    "Where:\n",
    "- $FairValuePrediction_{j,t}$ is defined as firm $j$'s Market Value on month $t$ predicted by a simple OLS\n",
    "- $MarketValue_{j,t}$ is defined as firm $j$'s Market Value on month $t$ calculated as $PRC * SHROUT$\n",
    "- $M_{j,t}$ is the mispricing signal for firm $j$ on month $t$\n"
   ]
  },
  {
   "cell_type": "code",
   "execution_count": null,
   "metadata": {},
   "outputs": [],
   "source": [
    "# get monthly fair value for each firm through simple OLS\n",
    "linear_fair_value = pd.DataFrame(msf.groupby('date').apply(\n",
    "    lambda x: pd.Series(\n",
    "        get_regression(x, predictor_names, prediction_name),\n",
    "        name='linear_fvp'\n",
    "    ))).reset_index()"
   ]
  },
  {
   "cell_type": "code",
   "execution_count": null,
   "metadata": {},
   "outputs": [],
   "source": [
    "# add results to main data frame\n",
    "msf['linear_fvp'] = linear_fair_value['linear_fvp']\n",
    "# calculate mispricing signal\n",
    "msf['linear_sig'] = (msf['linear_fvp'] - msf['mktval']) / msf['mktval']"
   ]
  },
  {
   "attachments": {},
   "cell_type": "markdown",
   "metadata": {},
   "source": [
    "# 3. **Model 2 - OLS Post-LASSO**"
   ]
  },
  {
   "attachments": {},
   "cell_type": "markdown",
   "metadata": {},
   "source": [
    "## 3.1 **Helper Functions**"
   ]
  },
  {
   "cell_type": "code",
   "execution_count": null,
   "metadata": {},
   "outputs": [],
   "source": [
    "# run LASSO Regression to extract relevant features\n",
    "def feature_selection(df: pd.DataFrame, predictors: list, prediction):\n",
    "    X = df.loc[:, predictors]\n",
    "    y = df.loc[:, prediction]\n",
    "    x_scaled = scale_data(X)\n",
    "\n",
    "    lasso = Lasso(max_iter=10000, normalize=True)\n",
    "    lasso_cv = LassoCV(alphas=None, cv=10, max_iter=10000, normalize=True)\n",
    "    # fit Cross Validation to get optimal alpha\n",
    "    lasso_cv.fit(x_scaled, y)\n",
    "    lasso.alpha = lasso_cv.alpha_\n",
    "    # fit Lasso with optimal penalty\n",
    "    lasso.fit(x_scaled, y)\n",
    "    # select optimal features -> coefficient > 0\n",
    "    coefficients = lasso.coef_\n",
    "    selected_features = list(np.array(predictors)[coefficients > 0])\n",
    "\n",
    "    return selected_features"
   ]
  },
  {
   "cell_type": "code",
   "execution_count": null,
   "metadata": {},
   "outputs": [],
   "source": [
    "# run OLS post-LASSO feature selection\n",
    "def ols_post_lasso(df: pd.DataFrame, predictors: list, prediction: str):\n",
    "    \n",
    "    # use LASSO regression to select relevant features\n",
    "    relevant_feats = feature_selection(df, predictors, prediction)\n",
    "    # get predicted values from OLS with selected features\n",
    "    y_pred = get_regression(df, relevant_feats, prediction)\n",
    "    \n",
    "    return y_pred"
   ]
  },
  {
   "attachments": {},
   "cell_type": "markdown",
   "metadata": {},
   "source": [
    "## 3.2 **Mispricing Signal**\n",
    "The mispricing signal is calculated as before, except we select the relevant explanatory features through a Least Absolute Selection and Shrinkage Operator.<br>\n",
    "\n",
    "- Firstly fit monthly data to a LASSO Cross-Validation to find the optimal $l_1$ penalty $\\alpha$\n",
    "- Then fit the data to the LASSO Regressor with the optimal $\\alpha$\n",
    "- Select the most relevant coefficients: $\\beta_i > 0$\n",
    "- Run OLS with only selected explanatory variables to predict fair values"
   ]
  },
  {
   "cell_type": "code",
   "execution_count": null,
   "metadata": {},
   "outputs": [],
   "source": [
    "# calculate predicted fair value with post-LASSO regression\n",
    "lasso_fair_value = pd.DataFrame(msf.groupby('date').apply(\n",
    "    lambda x: pd.Series(\n",
    "        ols_post_lasso(x, predictor_names, prediction_name),\n",
    "        name='post_lasso_fvp'\n",
    "    ))).reset_index()"
   ]
  },
  {
   "cell_type": "code",
   "execution_count": null,
   "metadata": {},
   "outputs": [],
   "source": [
    "# calculate OLS post-LASSO mispricing signal\n",
    "msf['lasso_fvp'] = lasso_fair_value['post_lasso_fvp']\n",
    "msf['lasso_sig'] = (msf['lasso_fvp'] - msf['mktval']) / msf['mktval']"
   ]
  },
  {
   "attachments": {},
   "cell_type": "markdown",
   "metadata": {},
   "source": [
    "# 4. **Model 3 - Random Forest Regressor**"
   ]
  },
  {
   "attachments": {},
   "cell_type": "markdown",
   "metadata": {},
   "source": [
    "## 4.1 **Helper Functions**"
   ]
  },
  {
   "cell_type": "code",
   "execution_count": null,
   "metadata": {},
   "outputs": [],
   "source": [
    "def get_random_forest(df: pd.DataFrame, predictors: list, prediction: str):\n",
    "    X = df.loc[:, predictors]\n",
    "    y = df.loc[:, prediction]\n",
    "    x_scaled = scale_data(X)\n",
    "\n",
    "    rf_reg = RandomForestRegressor(n_estimators=1000, random_state=42, min_samples_leaf=20)\n",
    "    rf_reg.fit(x_scaled, y)\n",
    "    y_pred = rf_reg.predict(X)\n",
    "    return y_pred"
   ]
  },
  {
   "attachments": {},
   "cell_type": "markdown",
   "metadata": {},
   "source": [
    "## 4.2 **Mispricing Signal**"
   ]
  },
  {
   "cell_type": "code",
   "execution_count": null,
   "metadata": {},
   "outputs": [],
   "source": [
    "# calculate predicted fair value with Random Forest regression\n",
    "rf_fair_value = pd.DataFrame(msf.groupby('date').apply(\n",
    "    lambda x: pd.Series(\n",
    "        get_random_forest(x, predictor_names, prediction_name),\n",
    "        name='rf_fvp'\n",
    "    ))).reset_index()"
   ]
  },
  {
   "cell_type": "code",
   "execution_count": null,
   "metadata": {},
   "outputs": [],
   "source": [
    "# calculate mispricing signal\n",
    "msf['rf_fvp'] = rf_fair_value['rf_fvp']\n",
    "msf['rf_sig'] = (msf['rf_fvp'] - msf['mktval']) / msf['mktval']"
   ]
  }
 ],
 "metadata": {
  "kernelspec": {
   "display_name": "Python 3.9.7 ('crypto-bot')",
   "language": "python",
   "name": "python3"
  },
  "language_info": {
   "codemirror_mode": {
    "name": "ipython",
    "version": 3
   },
   "file_extension": ".py",
   "mimetype": "text/x-python",
   "name": "python",
   "nbconvert_exporter": "python",
   "pygments_lexer": "ipython3",
   "version": "3.9.7"
  },
  "orig_nbformat": 4,
  "vscode": {
   "interpreter": {
    "hash": "c176bbd73966ae95c30e0aa2d52d94e509dcae400ab01cc0a2ff819406a30ef9"
   }
  }
 },
 "nbformat": 4,
 "nbformat_minor": 2
}
